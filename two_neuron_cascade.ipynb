{
 "cells": [
  {
   "cell_type": "markdown",
   "metadata": {},
   "source": [
    "# Cascade of two-neuron modules\n",
    "*Nhat Le, November 2017*"
   ]
  },
  {
   "cell_type": "code",
   "execution_count": 45,
   "metadata": {
    "collapsed": true
   },
   "outputs": [],
   "source": [
    "import numpy as np\n",
    "import matplotlib.pyplot as plt\n",
    "import seaborn as sns\n",
    "import os\n",
    "\n",
    "%matplotlib inline"
   ]
  },
  {
   "cell_type": "code",
   "execution_count": 46,
   "metadata": {
    "collapsed": true
   },
   "outputs": [],
   "source": [
    "def ecdf(x):\n",
    "    return np.sort(x), np.arange(len(x)) / len(x)\n",
    "\n",
    "def save_safe(filename):\n",
    "    '''Raise an error if file exists'''\n",
    "    if not os.path.isfile(filename):\n",
    "        plt.savefig(filename)\n",
    "    else:\n",
    "        raise IOError('File exists!')\n",
    "\n",
    "def thresh_exp(x):\n",
    "    '''Activation function'''\n",
    "    return 1 / (1 + np.exp(-x))"
   ]
  },
  {
   "cell_type": "markdown",
   "metadata": {},
   "source": [
    "## A Class for a two-neuron module"
   ]
  },
  {
   "cell_type": "code",
   "execution_count": 47,
   "metadata": {
    "collapsed": true
   },
   "outputs": [],
   "source": [
    "## Define an object class for simulation\n",
    "class TwoNeuronModule:\n",
    "    def __init__(self, Wut, Wvt, Wuv, Wvu, theta, tau, dt, sigma_mu, sigma_sigma, threshold):\n",
    "        self.Wut = Wut\n",
    "        self.Wvt = Wvt\n",
    "        self.Wuv = Wuv\n",
    "        self.Wvu = Wvu\n",
    "        self.theta = theta\n",
    "        self.tau = tau\n",
    "        self.dt = dt\n",
    "        self.sigma_mu = sigma_mu\n",
    "        self.sigma_sigma = sigma_sigma\n",
    "        self.ext = 0\n",
    "        self.threshold = threshold\n",
    " \n",
    "    def _initialize_state(self, u_init, v_init, ntrials):\n",
    "        '''Initialize n states, each set to (u_init, v_init)'''\n",
    "        self.ustate = np.array([u_init] * ntrials)\n",
    "        self.vstate = np.array([v_init] * ntrials)\n",
    "        self.ext = np.random.normal(0, self.sigma_mu, ntrials)\n",
    "\n",
    "    def _find_u_dot_multi(self):\n",
    "        noise = np.random.normal(loc=0, scale=self.sigma_sigma, size=len(self.ustate))\n",
    "        return (-self.ustate + thresh_exp(self.Wut * self.theta - \\\n",
    "                                          self.Wuv * self.vstate + noise + self.ext)) / self.tau\n",
    "    \n",
    "    def _find_v_dot_multi(self):\n",
    "        noise = np.random.normal(loc=0, scale=self.sigma_sigma, size=len(self.ustate))\n",
    "        return (-self.vstate + thresh_exp(self.Wut * self.theta - \\\n",
    "                                          self.Wuv * self.ustate + noise + self.ext)) / self.tau\n",
    "\n",
    "    def _update_state(self):\n",
    "        '''An update for a single time step dt'''\n",
    "        order = np.random.randint(0, 2) # Choose to update u or v first\n",
    "        if order:\n",
    "            self.ustate = self.ustate + self._find_u_dot_multi() * self.dt\n",
    "            self.vstate = self.vstate + self._find_v_dot_multi() * self.dt\n",
    "        else:\n",
    "            self.vstate = self.vstate + self._find_v_dot_multi() * self.dt\n",
    "            self.ustate = self.ustate + self._find_u_dot_multi() * self.dt\n",
    "    \n",
    "    def simulate_full_trial(self, u_init, v_init, ntrials, nsteps):\n",
    "        self._initialize_state(u_init, v_init, ntrials)\n",
    "        self.u_lst = []\n",
    "        self.v_lst = []\n",
    "        for i in range(nsteps):\n",
    "            self.u_lst.append(self.ustate.copy())\n",
    "            self.v_lst.append(self.vstate.copy())\n",
    "            self._update_state()\n",
    "        \n",
    "        self.u_lst = np.vstack(self.u_lst)\n",
    "        self.v_lst = np.vstack(self.v_lst)\n",
    "        return self.u_lst, self.v_lst\n",
    "    \n",
    "    def get_decision_v(self):\n",
    "        return self.u_lst - self.v_lst\n",
    "    \n",
    "    def find_tp(self):\n",
    "        decision_v = self.get_decision_v()\n",
    "        times_lst = []\n",
    "        for k in range(self.u_lst.shape[1]):\n",
    "            if np.max(decision_v) > self.threshold:\n",
    "                times_lst.append(np.nonzero(decision_v[:, k] > self.threshold)[0][0])\n",
    "            else:\n",
    "                times_lst.append(np.inf)\n",
    "                \n",
    "        return np.array(times_lst)"
   ]
  },
  {
   "cell_type": "code",
   "execution_count": 17,
   "metadata": {},
   "outputs": [],
   "source": [
    "module = TwoNeuronModule(Wut=6, Wuv=6, Wvt=6, Wvu=6, theta=0.613, tau=100, dt=1, \n",
    "                         sigma_mu=0.1, sigma_sigma=0.5, threshold=0.65)\n",
    "module._initialize_state(0.7, 0.2, 1)\n",
    "a, b = module.simulate_full_trial(0.7, 0.2, 100, 1000)\n",
    "times = module.find_tp()"
   ]
  },
  {
   "cell_type": "code",
   "execution_count": 18,
   "metadata": {},
   "outputs": [
    {
     "data": {
      "image/png": "[encoded data removed]",
      "text/plain": [
       "<matplotlib.figure.Figure at 0x2553c507470>"
      ]
     },
     "metadata": {},
     "output_type": "display_data"
    }
   ],
   "source": [
    "plt.plot(a,b,'b', alpha=0.1);"
   ]
  },
  {
   "cell_type": "code",
   "execution_count": 19,
   "metadata": {},
   "outputs": [
    {
     "name": "stdout",
     "output_type": "stream",
     "text": [
      "201.39\n"
     ]
    },
    {
     "data": {
      "image/png": "[encoded data removed]",
      "text/plain": [
       "<matplotlib.figure.Figure at 0x2553c3010f0>"
      ]
     },
     "metadata": {},
     "output_type": "display_data"
    }
   ],
   "source": [
    "print(np.mean(times))\n",
    "plt.hist(times);"
   ]
  },
  {
   "cell_type": "code",
   "execution_count": null,
   "metadata": {
    "collapsed": true
   },
   "outputs": [],
   "source": [
    "def simulate_module(ntrials, nsteps, nsteps_goal, ext_lst, params, \n",
    "                    K, prev_final=np.array([]), ext_updating=False):\n",
    "    '''Simulate a single module\n",
    "    Returns the list of final positions'''\n",
    "    ext_lst_new = np.array(ext_lst)\n",
    "    state_dict = {'u': np.array([0.7] * ntrials), 'v': np.array([0.2] * ntrials)}\n",
    "    if ext_updating:\n",
    "        assert(prev_final.shape != (0,))\n",
    "        ext_lst_new += K * (prev_final - np.mean(prev_final))\n",
    "    params['ext'] = ext_lst_new\n",
    "    \n",
    "    ulst_noise, vlst_noise = simulate_u_v_exp_multi(state_dict, params, nsteps)\n",
    "    decision_v = ulst_noise - vlst_noise\n",
    "    \n",
    "    threshold = np.nanmean(decision_v[nsteps_goal]) # TODO: check if this is a valid threshold\n",
    "    times_lst = get_times_lst_from_decision_v(decision_v, threshold)\n",
    "    \n",
    "    return ext_lst_new, (ulst_noise - vlst_noise)[nsteps_goal, :], np.array(times_lst)"
   ]
  },
  {
   "cell_type": "markdown",
   "metadata": {},
   "source": [
    "## The no-noise condition"
   ]
  },
  {
   "cell_type": "code",
   "execution_count": 29,
   "metadata": {
    "collapsed": true
   },
   "outputs": [],
   "source": [
    "thetas_lst = np.linspace(0.5, 0.7, 20)\n",
    "module_no_noise = TwoNeuronModule(Wut=6, Wuv=6, Wvt=6, Wvu=6, theta=thetas_lst, tau=100, dt=1, \n",
    "                         sigma_mu=0, sigma_sigma=0, threshold=0.65)\n",
    "ulst_no_noise, vlst_no_noise = module_no_noise.simulate_full_trial(0.7, 0.2, 20, 3000)\n",
    "times_no_noise = module_no_noise.find_tp()"
   ]
  },
  {
   "cell_type": "markdown",
   "metadata": {},
   "source": [
    "A plot of the trajectories for 20 values of $\\theta$ from 0.5 to 0.7 (no noise)"
   ]
  },
  {
   "cell_type": "code",
   "execution_count": 30,
   "metadata": {},
   "outputs": [
    {
     "data": {
      "text/plain": [
       "<matplotlib.text.Text at 0x2553c82bdd8>"
      ]
     },
     "execution_count": 30,
     "metadata": {},
     "output_type": "execute_result"
    },
    {
     "data": {
      "image/png": "[encoded data removed]",
      "text/plain": [
       "<matplotlib.figure.Figure at 0x2553c38f320>"
      ]
     },
     "metadata": {},
     "output_type": "display_data"
    }
   ],
   "source": [
    "plt.plot(ulst_no_noise, vlst_no_noise, 'b');\n",
    "plt.scatter(ulst_no_noise[::100,:], vlst_no_noise[::100,:], color='r', zorder=4)\n",
    "plt.title('Trajectory for single module, I = 0.6 to 0.8')"
   ]
  },
  {
   "cell_type": "code",
   "execution_count": 32,
   "metadata": {
    "scrolled": true
   },
   "outputs": [
    {
     "data": {
      "text/plain": [
       "<matplotlib.text.Text at 0x2553c2be7f0>"
      ]
     },
     "execution_count": 32,
     "metadata": {},
     "output_type": "execute_result"
    },
    {
     "data": {
      "image/png": "[encoded data removed]",
      "text/plain": [
       "<matplotlib.figure.Figure at 0x2553c398f28>"
      ]
     },
     "metadata": {},
     "output_type": "display_data"
    }
   ],
   "source": [
    "plt.plot(thetas_lst, times_no_noise)\n",
    "plt.xlabel('I0')\n",
    "plt.ylabel('Tp')\n",
    "plt.title('Tp for a single module')\n",
    "\n",
    "# Can we really model this??"
   ]
  },
  {
   "cell_type": "markdown",
   "metadata": {},
   "source": [
    "As expected, having two modules simply doubles the production time of a single module"
   ]
  },
  {
   "cell_type": "code",
   "execution_count": 37,
   "metadata": {},
   "outputs": [
    {
     "data": {
      "text/plain": [
       "<matplotlib.text.Text at 0x2553dc5f5c0>"
      ]
     },
     "execution_count": 37,
     "metadata": {},
     "output_type": "execute_result"
    },
    {
     "data": {
      "image/png": "[encoded data removed]",
      "text/plain": [
       "<matplotlib.figure.Figure at 0x2553c88f8d0>"
      ]
     },
     "metadata": {},
     "output_type": "display_data"
    }
   ],
   "source": [
    "module1 = TwoNeuronModule(Wut=6, Wuv=6, Wvt=6, Wvu=6, theta=np.linspace(0.5, 0.7, 20), tau=100, dt=1, \n",
    "                         sigma_mu=0, sigma_sigma=0, threshold=0.65)\n",
    "_ = module1.simulate_full_trial(0.7, 0.2, 20, 3000)\n",
    "module2 = TwoNeuronModule(Wut=6, Wuv=6, Wvt=6, Wvu=6, theta=np.linspace(0.5, 0.7, 20), tau=100, dt=1, \n",
    "                         sigma_mu=0, sigma_sigma=0, threshold=0.65)\n",
    "_ = module2.simulate_full_trial(0.7, 0.2, 20, 3000)\n",
    "\n",
    "times1 = module1.find_tp()\n",
    "times2 = module2.find_tp()\n",
    "\n",
    "plt.plot(thetas_lst, times1, label='One module')\n",
    "plt.plot(thetas_lst, times1 + times2, label='Two modules')\n",
    "plt.ylim(0, 500)\n",
    "plt.xlabel(r'$I_0$')\n",
    "plt.ylabel(r'$T_p$')\n",
    "plt.legend()\n",
    "plt.title('One or two modules, no noise')"
   ]
  },
  {
   "cell_type": "markdown",
   "metadata": {},
   "source": [
    "## Effect of $\\sigma_\\sigma$"
   ]
  },
  {
   "cell_type": "markdown",
   "metadata": {},
   "source": [
    "We first simulate a single module. We adjust $\\theta$ to make the mean time to threshold = 400"
   ]
  },
  {
   "cell_type": "code",
   "execution_count": 83,
   "metadata": {},
   "outputs": [
    {
     "name": "stdout",
     "output_type": "stream",
     "text": [
      "One module, mean = 399.039000, variance = 439.159479\n"
     ]
    }
   ],
   "source": [
    "# One module case to produce Tp = 400\n",
    "module = TwoNeuronModule(Wut=6, Wuv=6, Wvt=6, Wvu=6, theta=0.752, tau=100, dt=1, \n",
    "                         sigma_mu=0, sigma_sigma=0.3, threshold=0.65)\n",
    "ulst, vlst = module.simulate_full_trial(0.7, 0.2, 1000, 1000)\n",
    "times_single = module.find_tp()\n",
    "\n",
    "print('One module, mean = %f, variance = %f' % (np.mean(times_single), np.var(times_single)))"
   ]
  },
  {
   "cell_type": "markdown",
   "metadata": {},
   "source": [
    "For two modules, we can again adjust $\\theta$ to make sure the mean total time is 400"
   ]
  },
  {
   "cell_type": "code",
   "execution_count": 82,
   "metadata": {},
   "outputs": [
    {
     "name": "stdout",
     "output_type": "stream",
     "text": [
      "One module, mean = 399.134000, variance = 143.966044\n"
     ]
    }
   ],
   "source": [
    "# Two modules\n",
    "module1 = TwoNeuronModule(Wut=6, Wuv=6, Wvt=6, Wvu=6, theta=0.644, tau=100, dt=1, \n",
    "                         sigma_mu=0, sigma_sigma=0.3, threshold=0.65)\n",
    "_ = module1.simulate_full_trial(0.7, 0.2, 1000, 3000)\n",
    "module2 = TwoNeuronModule(Wut=6, Wuv=6, Wvt=6, Wvu=6, theta=0.644, tau=100, dt=1, \n",
    "                         sigma_mu=0, sigma_sigma=0.3, threshold=0.65)\n",
    "_ = module2.simulate_full_trial(0.7, 0.2, 1000, 3000)\n",
    "\n",
    "times_two_modules = module1.find_tp() + module2.find_tp()\n",
    "\n",
    "print('One module, mean = %f, variance = %f' % (np.mean(times_two_modules), np.var(times_two_modules)))"
   ]
  },
  {
   "cell_type": "markdown",
   "metadata": {},
   "source": [
    "And we compare the distribution of times! The two modules has a lower variance (3.9 compared to 20.4). But why? I don't have a good intuition here."
   ]
  },
  {
   "cell_type": "code",
   "execution_count": 85,
   "metadata": {
    "scrolled": true
   },
   "outputs": [
    {
     "data": {
      "text/plain": [
       "<matplotlib.legend.Legend at 0x2553c5534a8>"
      ]
     },
     "execution_count": 85,
     "metadata": {},
     "output_type": "execute_result"
    },
    {
     "data": {
      "image/png": "[encoded data removed]",
      "text/plain": [
       "<matplotlib.figure.Figure at 0x2553efb3898>"
      ]
     },
     "metadata": {},
     "output_type": "display_data"
    }
   ],
   "source": [
    "x1, y1 = ecdf(times_single)\n",
    "x2, y2 = ecdf(times_two_modules)\n",
    "plt.plot(x1, y1, label='Two modules')\n",
    "plt.plot(x2, y2, label='Single')\n",
    "plt.xlabel('Tp')\n",
    "plt.ylabel('Cumulative Frequency')\n",
    "plt.legend()\n"
   ]
  },
  {
   "cell_type": "markdown",
   "metadata": {},
   "source": [
    "## Update model"
   ]
  },
  {
   "cell_type": "markdown",
   "metadata": {},
   "source": [
    "Now here's the part where we make use of the update. We assume the threshold information is known (kept at 0.65), and subtract the final state of the system from the threshold."
   ]
  },
  {
   "cell_type": "code",
   "execution_count": null,
   "metadata": {
    "collapsed": true
   },
   "outputs": [],
   "source": [
    "def simulate_two_modules(ntrials, nsteps, theta, K, threshold)"
   ]
  },
  {
   "cell_type": "code",
   "execution_count": null,
   "metadata": {
    "collapsed": true,
    "scrolled": true
   },
   "outputs": [],
   "source": [
    "# Two modules\n",
    "ntrials = 1000\n",
    "nsteps = 3000\n",
    "theta = 0.65 # This makes mean = 400\n",
    "threshold = 0.65 \n",
    "\n",
    "state_dict = {'u': np.array([0.7] * ntrials), 'v': np.array([0.2] * ntrials)}\n",
    "\n",
    "varlst = []\n",
    "meanlst = []\n",
    "Klst = np.linspace(1, 3, 20)\n",
    "meanlst = np.zeros((10, 20))\n",
    "varlst = np.zeros((10, 20))\n",
    "\n",
    "for idtheta, theta in enumerate(np.linspace(0.6, 0.7, 10)):\n",
    "    print('theta = ', theta)\n",
    "    for idK, K in enumerate(Klst):\n",
    "        param_dict_module = {'Wut': 6, 'Wvt': 6, 'Wuv': 6, 'Wvu': 6,\n",
    "                  'theta': theta, 'tau': 100, 'dt': 1, 'ext': 0, 'sigma': 0.3}\n",
    "        # Module 1\n",
    "        print('    K = ', K)\n",
    "        param_dict_module['theta'] = theta # Initial theta\n",
    "        state_dict = {'u': np.array([0.7] * ntrials), 'v': np.array([0.2] * ntrials)}\n",
    "        ulst_noise_sigma1, vlst_noise_sigma1 = simulate_u_v_exp_multi(state_dict, param_dict_module, nsteps)\n",
    "\n",
    "        decision_sigma1 = ulst_noise_sigma1 - vlst_noise_sigma1\n",
    "\n",
    "        # Module 2 with correction\n",
    "        theta2 = theta + K * (decision_sigma1[199] - threshold)\n",
    "\n",
    "        param_dict_module['theta'] = theta2\n",
    "        ulst_noise_sigma2, vlst_noise_sigma2 = simulate_u_v_exp_multi(state_dict, param_dict_module, nsteps)\n",
    "\n",
    "        decision_sigma2 = ulst_noise_sigma2 - vlst_noise_sigma2\n",
    "        times_lst_sigma1 = get_times_lst_from_decision_v(decision_sigma1, threshold)\n",
    "        times_lst_sigma2 = get_times_lst_from_decision_v(decision_sigma2, threshold)\n",
    "        times_lst_sigma = times_lst_sigma1 + times_lst_sigma2\n",
    "        #varlst.append(np.std(times_lst_sigma))\n",
    "        #meanlst.append(np.mean(times_lst_sigma))\n",
    "        meanlst[idtheta, idK] = np.mean(times_lst_sigma)\n",
    "        varlst[idtheta, idK] = np.std(times_lst_sigma)"
   ]
  },
  {
   "cell_type": "code",
   "execution_count": null,
   "metadata": {
    "collapsed": true
   },
   "outputs": [],
   "source": [
    "plt.imshow(np.flipud(meanlst - 400), cmap='RdBu_r', aspect='auto', \\\n",
    "           vmin=-60, vmax=60, extent=[0, 3, 0.5, 0.6])\n",
    "plt.grid(False)\n",
    "plt.colorbar()\n",
    "plt.xlabel('K')\n",
    "plt.ylabel('Input')\n",
    "plt.title(r'Bias in Tp, $\\sigma=0.3$')\n",
    "#save_safe('bias_two_modules_sigma_0_3.pdf')"
   ]
  },
  {
   "cell_type": "code",
   "execution_count": null,
   "metadata": {
    "collapsed": true
   },
   "outputs": [],
   "source": [
    "plt.imshow(np.flipud(varlst), cmap='hot', aspect='auto', extent=[0, 3, 0.5, 0.6])\n",
    "plt.colorbar()\n",
    "plt.grid(False)\n",
    "plt.xlabel('K')\n",
    "plt.ylabel('Input')\n",
    "plt.title(r'Variance in Tp, $\\sigma=0.3$')\n",
    "#save_safe('variance_two_modules_sigma_0_3.pdf')"
   ]
  },
  {
   "cell_type": "code",
   "execution_count": null,
   "metadata": {
    "collapsed": true
   },
   "outputs": [],
   "source": [
    "plt.plot(((meanlst - 400)**2 +  varlst)[4].T);"
   ]
  },
  {
   "cell_type": "code",
   "execution_count": null,
   "metadata": {
    "collapsed": true
   },
   "outputs": [],
   "source": [
    "plt.imshow(np.log(np.log(np.flipud((meanlst - 400)**2 +  varlst))), cmap='hot', aspect='auto', extent=[0, 3, 0.5, 0.6])\n",
    "plt.colorbar()\n",
    "plt.grid(False)\n",
    "plt.xlabel('K')\n",
    "plt.ylabel('Input')\n",
    "plt.title(r'Variance in Tp, $\\sigma=0.3$')\n",
    "#save_safe('bias_variance_two_modules_sigma_0_3.pdf')"
   ]
  },
  {
   "cell_type": "markdown",
   "metadata": {},
   "source": [
    "An optimal value of $K = 1.5$ is found to minimize the variance in $T_p$. There seems to be a bias in the mean $T_p$ as well. The point of minimum variance also happens to have zero bias. Is this a coincidence?"
   ]
  },
  {
   "cell_type": "code",
   "execution_count": null,
   "metadata": {
    "collapsed": true
   },
   "outputs": [],
   "source": [
    "plt.figure(figsize=(8, 4))\n",
    "plt.subplot('121')\n",
    "plt.plot(Klst, meanlst)\n",
    "plt.xlabel('K')\n",
    "plt.ylabel('Mean Tp')\n",
    "\n",
    "plt.subplot('122')\n",
    "plt.plot(Klst, np.array(varlst) + (np.array(meanlst) - 400)**2)\n",
    "plt.xlabel('K')\n",
    "plt.ylabel('Standard Deviation Tp')"
   ]
  },
  {
   "cell_type": "markdown",
   "metadata": {},
   "source": [
    "## Effect of $\\sigma_\\sigma$"
   ]
  },
  {
   "cell_type": "markdown",
   "metadata": {},
   "source": [
    "In the previous section we worked with a single value $\\sigma_\\sigma=0.3$. Here we would like to get a sense of how the optimal value of $K$ changes as a function of $\\sigma_\\sigma$."
   ]
  },
  {
   "cell_type": "code",
   "execution_count": null,
   "metadata": {
    "collapsed": true
   },
   "outputs": [],
   "source": [
    "# Two modules\n",
    "ntrials = 1000\n",
    "nsteps = 3000\n",
    "theta = 0.644 # This makes mean = 400\n",
    "threshold = 0.65"
   ]
  },
  {
   "cell_type": "markdown",
   "metadata": {},
   "source": [
    "This is the theta that will give an expected time of 400 for values of $\\sigma_\\sigma$ = 0, 0.1, 0.2, ..., 0.5"
   ]
  },
  {
   "cell_type": "code",
   "execution_count": null,
   "metadata": {
    "collapsed": true
   },
   "outputs": [],
   "source": [
    "theta_lst = np.array([[0    , 0.1  , 0.2  , 0.3  , 0.4  , 0.5  ],\n",
    "                      [0.659, 0.658, 0.653, 0.644, 0.632, 0.613]])"
   ]
  },
  {
   "cell_type": "code",
   "execution_count": null,
   "metadata": {
    "collapsed": true
   },
   "outputs": [],
   "source": [
    "Klst = np.linspace(0, 3, 10)\n",
    "varlst = np.zeros((6, 10))\n",
    "meanlst = np.zeros((6, 10))\n",
    "\n",
    "for i in range(theta_lst.shape[1]):\n",
    "    sigma_sigma = theta_lst[0, i]\n",
    "    theta = theta_lst[1, i]\n",
    "    state_dict = {'u': np.array([0.7] * ntrials), 'v': np.array([0.2] * ntrials)}\n",
    "    param_dict_module = {'Wut': 6, 'Wvt': 6, 'Wuv': 6, 'Wvu': 6,\n",
    "                  'theta': theta, 'tau': 100, 'dt': 1, 'ext': 0, 'sigma': sigma_sigma}\n",
    "    for j, K in enumerate(Klst):\n",
    "        print('Working, i = ', i, 'K = ', K)\n",
    "        # Module 1\n",
    "        state_dict = {'u': np.array([0.7] * ntrials), 'v': np.array([0.2] * ntrials)}\n",
    "        param_dict_module['theta'] = theta # Initial theta\n",
    "        ulst_noise_sigma1, vlst_noise_sigma1 = simulate_u_v_exp_multi(state_dict, param_dict_module, nsteps)\n",
    "\n",
    "        decision_sigma1 = ulst_noise_sigma1 - vlst_noise_sigma1\n",
    "\n",
    "        # Module 2 with correction\n",
    "        theta2 = theta + K * (decision_sigma1[199] - threshold)\n",
    "\n",
    "        param_dict_module['theta'] = theta2\n",
    "        ulst_noise_sigma2, vlst_noise_sigma2 = simulate_u_v_exp_multi(state_dict, param_dict_module, nsteps)\n",
    "\n",
    "        decision_sigma2 = ulst_noise_sigma2 - vlst_noise_sigma2\n",
    "        times_lst_sigma1 = get_times_lst_from_decision_v(decision_sigma1, threshold)\n",
    "        times_lst_sigma2 = get_times_lst_from_decision_v(decision_sigma2, threshold)\n",
    "        times_lst_sigma = times_lst_sigma1 + times_lst_sigma2\n",
    "        varlst[i][j] = np.std(times_lst_sigma)\n",
    "        meanlst[i][j] = np.mean(times_lst_sigma)"
   ]
  },
  {
   "cell_type": "markdown",
   "metadata": {},
   "source": [
    "Interestingly, the bias is relatively constant while the minimum point of the variance occurs consistently at $K \\approx 1.5$"
   ]
  },
  {
   "cell_type": "code",
   "execution_count": null,
   "metadata": {
    "collapsed": true,
    "scrolled": true
   },
   "outputs": [],
   "source": [
    "fig, ax = plt.subplots(1, 5, figsize=(15, 5))\n",
    "for i in range(1, 6):\n",
    "    sq_bias = (meanlst[i]-400)**2\n",
    "    biasid = np.argmin(sq_bias)\n",
    "    varid = np.argmin(varlst[i])\n",
    "    ax[i-1].plot(Klst, varlst[i], color='b', label='Std. Dev.')\n",
    "    ax[i-1].plot(Klst, meanlst[i] - 400, color='g', label='Bias')\n",
    "    ax[i-1].set_ylim((-10, 30))\n",
    "    ax[i-1].set_xlabel(r'$K$')\n",
    "    ax[i-1].set_title(r'$\\sigma=$' + str(theta_lst[0, i-1]))\n",
    "    #ax[i-1].axvline(x=Klst[biasid], linestyle='--', color='g')\n",
    "    #ax[i-1].axvline(x=Klst[varid], linestyle='--', color='b')\n",
    "\n",
    "ax[0].set_ylabel('Bias and Std. Dev')\n",
    "ax[4].legend();\n",
    "save_safe('bias_variance_sigma_sigma.pdf')\n"
   ]
  },
  {
   "cell_type": "markdown",
   "metadata": {},
   "source": [
    "## Effect of $\\sigma_\\mu$"
   ]
  },
  {
   "cell_type": "markdown",
   "metadata": {},
   "source": [
    "We now turn to the effect of $\\sigma_\\mu$ and try to find values of $K$ that help the system correct its $T_p$. My previous result has shown that the bias of $T_p$ can be kept close to 0 at certain values of $\\theta$, while the variance can be controlled by $K$. Thus, we can reuse the $\\theta$ table obtained previously to set the right $I$ for the system to achieve time = 400."
   ]
  },
  {
   "cell_type": "code",
   "execution_count": null,
   "metadata": {
    "collapsed": true
   },
   "outputs": [],
   "source": [
    "# Two modules\n",
    "ntrials = 1000\n",
    "nsteps = 3000\n",
    "theta = 0.644 # This makes mean = 400\n",
    "threshold = 0.65 \n",
    "\n",
    "state_dict = {'u': np.array([0.7] * ntrials), 'v': np.array([0.2] * ntrials)}\n",
    "mu_ext = np.random.normal(0, 0.3, ntrials)\n",
    "param_dict_module = {'Wut': 6, 'Wvt': 6, 'Wuv': 6, 'Wvu': 6,\n",
    "              'theta': theta, 'tau': 100, 'dt': 1, 'ext': mu_ext, 'sigma': 0}\n",
    "\n",
    "ulst_noise_sigma1, vlst_noise_sigma1 = simulate_u_v_exp_multi(state_dict, param_dict_module, nsteps)\n",
    "ulst_noise_sigma2, vlst_noise_sigma2 = simulate_u_v_exp_multi(state_dict, param_dict_module, nsteps)\n",
    "\n",
    "decision_sigma1 = ulst_noise_sigma1 - vlst_noise_sigma1\n",
    "decision_sigma2 = ulst_noise_sigma2 - vlst_noise_sigma2\n",
    "    \n",
    "times_lst_sigma1 = get_times_lst_from_decision_v(decision_sigma1, threshold)\n",
    "times_lst_sigma2 = get_times_lst_from_decision_v(decision_sigma2, threshold)\n",
    "times_lst_sigma = times_lst_sigma1 + times_lst_sigma2\n",
    "print(np.mean(times_lst_sigma))"
   ]
  },
  {
   "cell_type": "code",
   "execution_count": null,
   "metadata": {
    "collapsed": true
   },
   "outputs": [],
   "source": [
    "plt.plot(decision_sigma1);"
   ]
  },
  {
   "cell_type": "markdown",
   "metadata": {},
   "source": [
    "Again we see the familiar shape of the $\\sigma_\\mu$ trials with a more 'ordered' time steps. At large values of $\\sigma_\\mu$, deviations can be detrimental as the system never crosses threshold."
   ]
  },
  {
   "cell_type": "code",
   "execution_count": null,
   "metadata": {
    "collapsed": true
   },
   "outputs": [],
   "source": [
    "plt.plot(ulst_noise_sigma1, vlst_noise_sigma1, 'b', alpha=0.03);\n",
    "plt.scatter(ulst_noise_sigma1[100], vlst_noise_sigma1[100], color='r');\n",
    "plt.scatter(ulst_noise_sigma1[200], vlst_noise_sigma1[200], color='r');\n",
    "plt.scatter(ulst_noise_sigma1[300], vlst_noise_sigma1[300], color='r');"
   ]
  },
  {
   "cell_type": "markdown",
   "metadata": {},
   "source": [
    "Now we try to introduce updating with $K$ and see what happens"
   ]
  },
  {
   "cell_type": "code",
   "execution_count": null,
   "metadata": {
    "collapsed": true
   },
   "outputs": [],
   "source": [
    "# Two modules\n",
    "ntrials = 1000\n",
    "nsteps = 3000\n",
    "theta = 0.65 # This makes mean = 400\n",
    "threshold = 0.65 \n",
    "\n",
    "state_dict = {'u': np.array([0.7] * ntrials), 'v': np.array([0.2] * ntrials)}\n",
    "\n",
    "varlst = []\n",
    "meanlst = []\n",
    "Klst = np.linspace(0, 4, 20)\n",
    "meanlst = np.zeros((10, 20))\n",
    "varlst = np.zeros((10, 20))\n",
    "mu_ext = np.random.normal(0, 0.1, ntrials)\n",
    "\n",
    "for idtheta, theta in enumerate(np.linspace(0.5, 0.7, 10)):\n",
    "    print('theta = ', theta)\n",
    "    for idK, K in enumerate(Klst):\n",
    "        param_dict_module = {'Wut': 6, 'Wvt': 6, 'Wuv': 6, 'Wvu': 6,\n",
    "                  'theta': theta, 'tau': 100, 'dt': 1, 'ext': mu_ext, 'sigma': 0}\n",
    "        # Module 1\n",
    "        print('    K = ', K)\n",
    "        param_dict_module['theta'] = theta # Initial theta\n",
    "        state_dict = {'u': np.array([0.7] * ntrials), 'v': np.array([0.2] * ntrials)}\n",
    "        ulst_noise_sigma1, vlst_noise_sigma1 = simulate_u_v_exp_multi(state_dict, param_dict_module, nsteps)\n",
    "\n",
    "        decision_sigma1 = ulst_noise_sigma1 - vlst_noise_sigma1\n",
    "\n",
    "        # Module 2 with correction\n",
    "        theta2 = theta + K * (decision_sigma1[199] - threshold)\n",
    "\n",
    "        param_dict_module['theta'] = theta2\n",
    "        ulst_noise_sigma2, vlst_noise_sigma2 = simulate_u_v_exp_multi(state_dict, param_dict_module, nsteps)\n",
    "\n",
    "        decision_sigma2 = ulst_noise_sigma2 - vlst_noise_sigma2\n",
    "        times_lst_sigma1 = get_times_lst_from_decision_v(decision_sigma1, threshold)\n",
    "        times_lst_sigma2 = get_times_lst_from_decision_v(decision_sigma2, threshold)\n",
    "        times_lst_sigma = times_lst_sigma1 + times_lst_sigma2\n",
    "        #varlst.append(np.std(times_lst_sigma))\n",
    "        #meanlst.append(np.mean(times_lst_sigma))\n",
    "        meanlst[idtheta, idK] = np.mean(times_lst_sigma)\n",
    "        varlst[idtheta, idK] = np.std(times_lst_sigma)"
   ]
  },
  {
   "cell_type": "code",
   "execution_count": null,
   "metadata": {
    "collapsed": true
   },
   "outputs": [],
   "source": [
    "np.linspace(0.5, 0.7, 10)[7]"
   ]
  },
  {
   "cell_type": "code",
   "execution_count": null,
   "metadata": {
    "collapsed": true
   },
   "outputs": [],
   "source": [
    "theta"
   ]
  },
  {
   "cell_type": "code",
   "execution_count": null,
   "metadata": {
    "collapsed": true
   },
   "outputs": [],
   "source": [
    "plt.plot(meanlst[7,:]);"
   ]
  },
  {
   "cell_type": "code",
   "execution_count": null,
   "metadata": {
    "collapsed": true
   },
   "outputs": [],
   "source": [
    "plt.imshow(np.flipud(meanlst - 400), cmap='RdBu_r', aspect='auto', \\\n",
    "           vmin = -100, vmax=100, extent=[0, 4, 0.5, 0.7])\n",
    "plt.grid(False)\n",
    "plt.colorbar()\n",
    "plt.xlabel('K')\n",
    "plt.ylabel('Input')\n",
    "plt.title(r'Bias in Tp, $\\sigma=0.1$')\n",
    "save_safe('bias_two_modules_sigma_mu_0_1.pdf')"
   ]
  },
  {
   "cell_type": "code",
   "execution_count": null,
   "metadata": {
    "collapsed": true
   },
   "outputs": [],
   "source": [
    "plt.imshow(np.flipud(varlst), cmap='hot', aspect='auto', \\\n",
    "           extent=[0, 4, 0.5, 0.7])\n",
    "plt.grid(False)\n",
    "plt.colorbar()\n",
    "plt.xlabel('K')\n",
    "plt.ylabel('Input')\n",
    "plt.title(r'Variance in Tp, $\\sigma=0.1$')\n",
    "save_safe('variance_two_modules_sigma_mu_0_1.pdf')"
   ]
  },
  {
   "cell_type": "code",
   "execution_count": null,
   "metadata": {
    "collapsed": true
   },
   "outputs": [],
   "source": [
    "plt.imshow(np.flipud(varlst + (meanlst - 400)**2), cmap='hot', aspect='auto', \\\n",
    "           extent=[0, 3, 0.5, 0.7])\n",
    "plt.grid(False)\n",
    "plt.colorbar()\n",
    "plt.xlabel('K')\n",
    "plt.ylabel('Input')\n",
    "plt.title(r'Bias + variance in Tp, $\\sigma=0.1$')\n",
    "save_safe('bias_variance_two_modules_sigma_mu_0_1.pdf')"
   ]
  },
  {
   "cell_type": "code",
   "execution_count": null,
   "metadata": {
    "collapsed": true
   },
   "outputs": [],
   "source": [
    "# Two modules\n",
    "ntrials = 1000\n",
    "nsteps = 3000\n",
    "theta = 0.656 # This makes mean = 400\n",
    "\n",
    "mu_ext = np.random.normal(0, 0.1, ntrials)\n",
    "state_dict = {'u': np.array([0.7] * ntrials), 'v': np.array([0.2] * ntrials)}\n",
    "param_dict_module = {'Wut': 6, 'Wvt': 6, 'Wuv': 6, 'Wvu': 6,\n",
    "              'theta': theta, 'tau': 100, 'dt': 1, 'ext': mu_ext, 'sigma': 0}\n",
    "varlst = []\n",
    "meanlst = []\n",
    "Klst = np.linspace(0, 4, 15)\n",
    "\n",
    "for K in Klst:\n",
    "    # Module 1\n",
    "    print(K)\n",
    "    param_dict_module['theta'] = theta # Initial theta\n",
    "    state_dict = {'u': np.array([0.7] * ntrials), 'v': np.array([0.2] * ntrials)}\n",
    "    ulst_noise_sigma1, vlst_noise_sigma1 = simulate_u_v_exp_multi(state_dict, param_dict_module, nsteps)\n",
    "    \n",
    "    decision_sigma1 = ulst_noise_sigma1 - vlst_noise_sigma1\n",
    "\n",
    "    # Module 2 with correction\n",
    "    theta2 = theta + K * (decision_sigma1[199] - threshold)\n",
    "    \n",
    "    param_dict_module['theta'] = theta2\n",
    "    ulst_noise_sigma2, vlst_noise_sigma2 = simulate_u_v_exp_multi(state_dict, param_dict_module, nsteps)\n",
    "    \n",
    "    decision_sigma2 = ulst_noise_sigma2 - vlst_noise_sigma2\n",
    "    times_lst_sigma1 = get_times_lst_from_decision_v(decision_sigma1, threshold)\n",
    "    times_lst_sigma2 = get_times_lst_from_decision_v(decision_sigma2, threshold)\n",
    "    times_lst_sigma = times_lst_sigma1 + times_lst_sigma2\n",
    "    varlst.append(np.std(times_lst_sigma))\n",
    "    meanlst.append(np.mean(times_lst_sigma))"
   ]
  },
  {
   "cell_type": "markdown",
   "metadata": {},
   "source": [
    "Some preliminary conclusions: (1) The value of $\\theta$ computed in the table seems to give the lowest bias in  mean $T_p$ (2) Changing $\\theta$ around this value shifts the Mean $T_p$ curve left or right and does not change the minimum point of the variance. Thus we can make the zero bias coincide with the minimum point in variance"
   ]
  },
  {
   "cell_type": "code",
   "execution_count": null,
   "metadata": {
    "collapsed": true
   },
   "outputs": [],
   "source": [
    "plt.figure(figsize=(8, 4))\n",
    "plt.subplot('121')\n",
    "plt.plot(Klst, meanlst)\n",
    "plt.xlabel('K')\n",
    "plt.ylabel('Mean Tp')\n",
    "\n",
    "plt.subplot('122')\n",
    "plt.plot(Klst, varlst, '.')\n",
    "plt.xlabel('K')\n",
    "plt.ylabel('Standard Deviation Tp')"
   ]
  },
  {
   "cell_type": "code",
   "execution_count": null,
   "metadata": {
    "collapsed": true
   },
   "outputs": [],
   "source": [
    "ntrials = 100\n",
    "nsteps = 5000\n",
    "goal = 500\n",
    "Kval = 3\n",
    "state_dict = {'u': np.array([0.7] * ntrials), 'v': np.array([0.2] * ntrials)}\n",
    "threshold = 0.1\n",
    "\n",
    "# Module 1\n",
    "ext_module1 = np.random.normal(loc=0, scale=0.3, size=ntrials)\n",
    "param_dict_module = {'Wut': 6, 'Wvt': 6, 'Wuv': 6, 'Wvu': 6,\n",
    "              'theta': 0.8, 'tau': 100, 'dt': 1, 'ext': ext_module1, 'sigma': 0.2}\n",
    "_, final_pos1, times_lst1 = simulate_module(ntrials, nsteps, goal, ext_module1, \n",
    "                                            param_dict_module, K=Kval, ext_updating=False)\n",
    "#times_lst1 = get_times_lst(state_dict, param_dict_module, nsteps, threshold)\n",
    "\n",
    "# Module 2\n",
    "ext_module2, final_pos2, times_lst2 = simulate_module(ntrials, nsteps, goal, ext_module1, \n",
    "                                                      param_dict_module, \n",
    "                                          K=Kval, prev_final=final_pos1, ext_updating=True)\n",
    "\n",
    "# Module3\n",
    "ext_module3, final_pos3, times_lst3 = simulate_module(ntrials, nsteps, goal, ext_module2, \n",
    "                                                      param_dict_module, \n",
    "                                          K=Kval, prev_final=final_pos2, ext_updating=True)"
   ]
  },
  {
   "cell_type": "code",
   "execution_count": null,
   "metadata": {
    "collapsed": true
   },
   "outputs": [],
   "source": [
    "ntrials = 100\n",
    "nsteps = 5000\n",
    "goal = 1500\n",
    "Kval = 3\n",
    "state_dict = {'u': np.array([0.7] * ntrials), 'v': np.array([0.2] * ntrials)}\n",
    "threshold = 0.1\n",
    "\n",
    "# Module 1\n",
    "ext_module1 = np.random.normal(loc=0, scale=0.3, size=ntrials)\n",
    "param_dict_module = {'Wut': 6, 'Wvt': 6, 'Wuv': 6, 'Wvu': 6,\n",
    "              'theta': 0.8, 'tau': 100, 'dt': 1, 'ext': ext_module1, 'sigma': 0.2}\n",
    "_, final_pos_single, times_lst_single = simulate_module(ntrials, nsteps, goal, ext_module1, \n",
    "                                            param_dict_module, K=Kval, ext_updating=False)"
   ]
  },
  {
   "cell_type": "code",
   "execution_count": null,
   "metadata": {
    "collapsed": true
   },
   "outputs": [],
   "source": [
    "def simulate_multiple_modules(ntrials, nsteps, total_duration, Kval, nmodules, sigma_mu, sigma_sigma):\n",
    "    '''Simulate multiple modules in a cascade.\n",
    "    ntrials: number of trials\n",
    "    nsteps: number of time steps per trial\n",
    "    total_duration: total time steps for N modules\n",
    "    Kval: constant K for updating input\n",
    "    nmodules: number of modules'''\n",
    "    param_dict_module = {'Wut': 6, 'Wvt': 6, 'Wuv': 6, 'Wvu': 6,\n",
    "              'theta': 0.8, 'tau': 100, 'dt': 1, 'ext': ext_module1, 'sigma': sigma_sigma}\n",
    "    subgoal = int(total_duration / nmodules)\n",
    "    \n",
    "    # Initial input to module 1\n",
    "    ext_module_init = np.random.normal(loc=0, scale=sigma_mu, size=ntrials)\n",
    "\n",
    "    for i in range(nmodules):\n",
    "        print('Simulating module', i)\n",
    "        if i == 0:\n",
    "            ext_module, final_pos, total_times = simulate_module(ntrials, nsteps, subgoal, ext_module_init, \n",
    "                                                      param_dict_module, \n",
    "                                          K=Kval, ext_updating=False)\n",
    "        else:\n",
    "            ext_module, final_pos, times_lst = simulate_module(ntrials, nsteps, subgoal, ext_module, \n",
    "                                                      param_dict_module, \n",
    "                                          K=Kval, prev_final=final_pos, ext_updating=True)\n",
    "            total_times += times_lst\n",
    "    return total_times"
   ]
  },
  {
   "cell_type": "code",
   "execution_count": null,
   "metadata": {
    "collapsed": true,
    "scrolled": true
   },
   "outputs": [],
   "source": [
    "palette = sns.hls_palette(8, l=0.5, s=0.8)\n",
    "#palette = sns.color_palette('hls', 10)\n",
    "for i in range(1, 9):\n",
    "    time_lst = simulate_multiple_modules(1000, 5000, 1500, 3, i, 0.5, 0.2)\n",
    "    x, y = ecdf(time_lst)\n",
    "    plt.plot(x, y, color=palette[i - 1], label=str(i))\n",
    "plt.legend(title='N modules', ncol=2)\n",
    "plt.xlabel('Time (steps)')\n",
    "plt.ylabel('Cumulative Frequency')\n",
    "#save_safe('cascade_performance.pdf')"
   ]
  },
  {
   "cell_type": "code",
   "execution_count": null,
   "metadata": {
    "collapsed": true
   },
   "outputs": [],
   "source": [
    "ntrials = 100\n",
    "nsteps = 5000\n",
    "goal = 500\n",
    "Kval = 3\n",
    "state_dict = {'u': np.array([0.7] * ntrials), 'v': np.array([0.2] * ntrials)}\n",
    "threshold = 0.1\n",
    "\n",
    "# Module 1\n",
    "ext_module1 = np.random.normal(loc=0, scale=0.3, size=ntrials)\n",
    "param_dict_module = {'Wut': 6, 'Wvt': 6, 'Wuv': 6, 'Wvu': 6,\n",
    "              'theta': 0.8, 'tau': 100, 'dt': 1, 'ext': ext_module1, 'sigma': 0.2}\n",
    "_, final_pos1, times_lst1 = simulate_module(ntrials, nsteps, goal, ext_module1, \n",
    "                                            param_dict_module, K=Kval, ext_updating=False)\n",
    "#times_lst1 = get_times_lst(state_dict, param_dict_module, nsteps, threshold)\n",
    "\n",
    "# Module 2\n",
    "ext_module2, final_pos2, times_lst2 = simulate_module(ntrials, nsteps, goal, ext_module1, \n",
    "                                                      param_dict_module, \n",
    "                                          K=Kval, prev_final=final_pos1, ext_updating=True)\n",
    "\n",
    "# Module3\n",
    "ext_module3, final_pos3, times_lst3 = simulate_module(ntrials, nsteps, goal, ext_module2, \n",
    "                                                      param_dict_module, \n",
    "                                          K=Kval, prev_final=final_pos2, ext_updating=True)"
   ]
  },
  {
   "cell_type": "code",
   "execution_count": null,
   "metadata": {
    "collapsed": true
   },
   "outputs": [],
   "source": [
    "times_lst1 + times_lst2 + times_lst3"
   ]
  },
  {
   "cell_type": "code",
   "execution_count": null,
   "metadata": {
    "collapsed": true
   },
   "outputs": [],
   "source": [
    "ntrials = 100\n",
    "nsteps = 5000\n",
    "goal = 150\n",
    "Kval = 3\n",
    "state_dict = {'u': np.array([0.7] * ntrials), 'v': np.array([0.2] * ntrials)}\n",
    "threshold = 0.1\n",
    "\n",
    "# Module 1\n",
    "ext_module1 = np.random.normal(loc=0, scale=0.3, size=ntrials)\n",
    "param_dict_module = {'Wut': 6, 'Wvt': 6, 'Wuv': 6, 'Wvu': 6,\n",
    "              'theta': 0.8, 'tau': 100, 'dt': 1, 'ext': ext_module1, 'sigma': 0.2}\n",
    "_, final_pos1, times_lst1 = simulate_module(ntrials, nsteps, goal, ext_module1, \n",
    "                                            param_dict_module, K=Kval, ext_updating=False)\n",
    "#times_lst1 = get_times_lst(state_dict, param_dict_module, nsteps, threshold)\n",
    "\n",
    "# Module 2\n",
    "ext_module2, final_pos2, times_lst2 = simulate_module(ntrials, nsteps, goal, ext_module1, \n",
    "                                                      param_dict_module, \n",
    "                                          K=Kval, prev_final=final_pos1, ext_updating=True)\n",
    "\n",
    "# Module3\n",
    "ext_module3, final_pos3, times_lst3 = simulate_module(ntrials, nsteps, goal, ext_module2, \n",
    "                                                      param_dict_module, \n",
    "                                          K=Kval, prev_final=final_pos2, ext_updating=True)\n",
    "ext_module4, final_pos4, times_lst4 = simulate_module(ntrials, nsteps, goal, ext_module3, \n",
    "                                                      param_dict_module, \n",
    "                                          K=Kval, prev_final=final_pos3, ext_updating=True)\n",
    "ext_module5, final_pos5, times_lst5 = simulate_module(ntrials, nsteps, goal, ext_module4, \n",
    "                                                      param_dict_module, \n",
    "                                          K=Kval, prev_final=final_pos4, ext_updating=True)\n",
    "ext_module6, final_pos6, times_lst6 = simulate_module(ntrials, nsteps, goal, ext_module5, \n",
    "                                                      param_dict_module, \n",
    "                                          K=Kval, prev_final=final_pos5, ext_updating=True)\n",
    "ext_module7, final_pos7, times_lst7 = simulate_module(ntrials, nsteps, goal, ext_module6, \n",
    "                                                      param_dict_module, \n",
    "                                          K=Kval, prev_final=final_pos6, ext_updating=True)\n",
    "ext_module8, final_pos8, times_lst8 = simulate_module(ntrials, nsteps, goal, ext_module7, \n",
    "                                                      param_dict_module, \n",
    "                                          K=Kval, prev_final=final_pos7, ext_updating=True)\n",
    "ext_module9, final_pos9, times_lst9 = simulate_module(ntrials, nsteps, goal, ext_module8, \n",
    "                                                      param_dict_module, \n",
    "                                          K=Kval, prev_final=final_pos8, ext_updating=True)\n",
    "ext_module10, final_pos10, times_lst10 = simulate_module(ntrials, nsteps, goal, ext_module9, \n",
    "                                                      param_dict_module, \n",
    "                                          K=Kval, prev_final=final_pos9, ext_updating=True)"
   ]
  },
  {
   "cell_type": "code",
   "execution_count": null,
   "metadata": {
    "collapsed": true
   },
   "outputs": [],
   "source": [
    "plt.hist(times_lst1[times_lst1 < 1000], normed=True, range=(0, 1000))\n",
    "plt.hist(times_lst2[times_lst2 < 1000], normed=True)\n",
    "plt.hist(times_lst3[times_lst3 < 1000], normed=True)\n",
    "plt.hist(times_lst_single[times_lst_single < 1000], normed=True)\n",
    "#plt.xlim(0, 1000)"
   ]
  },
  {
   "cell_type": "code",
   "execution_count": null,
   "metadata": {
    "collapsed": true
   },
   "outputs": [],
   "source": [
    "# Module 1!\n",
    "ntrials = 100\n",
    "nsteps = 0\n",
    "ext_module1 = np.random.normal(loc=0, scale=0.3, size=ntrials)\n",
    "param_dict_module1 = {'Wut': 6, 'Wvt': 6, 'Wuv': 6, 'Wvu': 6,\n",
    "              'theta': 0.8, 'tau': 100, 'dt': 1, 'ext': ext_module1, 'sigma': 0.1}\n",
    "\n",
    "state_dict = {'u': np.array([0.7] * ntrials), 'v': np.array([0.2] * ntrials)}\n",
    "ulst_noise1, vlst_noise1 = simulate_u_v_exp_multi(state_dict, param_dict_module1, 300)\n",
    "final_pos1 = (ulst_noise1 - vlst_noise1)[-1, :]"
   ]
  },
  {
   "cell_type": "code",
   "execution_count": null,
   "metadata": {
    "collapsed": true,
    "scrolled": false
   },
   "outputs": [],
   "source": [
    "decision_v = ulst_noise1 - vlst_noise1\n",
    "plt.plot(decision_v);"
   ]
  },
  {
   "cell_type": "code",
   "execution_count": null,
   "metadata": {
    "collapsed": true
   },
   "outputs": [],
   "source": [
    "plt.plot(ulst_noise1, vlst_noise1, 'b.', alpha=0.01);\n",
    "k = np.linspace(0.5, 1, 100)\n",
    "plt.scatter(ulst_noise1[100,:], vlst_noise1[100,:], color='r', marker='.');\n",
    "plt.scatter(ulst_noise1[200,:], vlst_noise1[200,:], color='r', marker='.');\n",
    "plt.scatter(ulst_noise1[300,:], vlst_noise1[300,:], color='r', marker='.');\n",
    "plt.plot(k , 1 - k, '--')"
   ]
  },
  {
   "cell_type": "code",
   "execution_count": null,
   "metadata": {
    "collapsed": true
   },
   "outputs": [],
   "source": [
    "# Module 2!\n",
    "ref2 = np.mean(final_pos1)\n",
    "k2 = 2\n",
    "ext_module2 = (ext_module1 + k2 * (final_pos1 - ref2))\n",
    "\n",
    "param_dict_module2 = {'Wut': 6, 'Wvt': 6, 'Wuv': 6, 'Wvu': 6,\n",
    "              'theta': 0.8, 'tau': 100, 'dt': 1, 'ext': ext_module2, 'sigma': 0}\n",
    "\n",
    "state_dict = {'u': np.array([0.7] * ntrials), 'v': np.array([0.2] * ntrials)}\n",
    "ulst_noise2, vlst_noise2 = simulate_u_v_exp_multi(state_dict, param_dict_module2, 300)\n",
    "decision_v2 = ulst_noise2 - vlst_noise2\n",
    "final_pos2 = (ulst_noise2 - vlst_noise2)[-1, :]"
   ]
  },
  {
   "cell_type": "code",
   "execution_count": null,
   "metadata": {
    "collapsed": true
   },
   "outputs": [],
   "source": [
    "plt.figure(figsize=(5, 4))\n",
    "plt.scatter(ext_module1, ext_module1, label=r'$I_1$ bias')\n",
    "plt.scatter(ext_module1, ext_module2, label=r'$I_2$ bias')\n",
    "plt.scatter(ext_module1, ext_module3, label=r'$I_3$ bias')\n",
    "plt.xlabel(r'$I_1$ bias')\n",
    "plt.ylabel(r'$I_2, I_3$ bias')\n",
    "plt.legend()\n",
    "save_safe('bias_three_modules_sigma_mu_K-4.pdf')"
   ]
  },
  {
   "cell_type": "code",
   "execution_count": null,
   "metadata": {
    "collapsed": true
   },
   "outputs": [],
   "source": [
    "plt.plot(ulst_noise1, vlst_noise1, 'b.', alpha=0.01);\n",
    "k = np.linspace(0.5, 1, 100)\n",
    "plt.scatter(ulst_noise1[100,:], vlst_noise1[100,:], color='r', marker='.');\n",
    "plt.scatter(ulst_noise1[200,:], vlst_noise1[200,:], color='r', marker='.');\n",
    "plt.scatter(ulst_noise1[300,:], vlst_noise1[300,:], color='r', marker='.');\n",
    "plt.plot(k , 1 - k + 0.2, '--')"
   ]
  },
  {
   "cell_type": "code",
   "execution_count": null,
   "metadata": {
    "collapsed": true
   },
   "outputs": [],
   "source": [
    "plt.scatter(ext_module1, ext_module2)\n",
    "plt.plot(ext_module1, ext_module1)"
   ]
  },
  {
   "cell_type": "code",
   "execution_count": null,
   "metadata": {
    "collapsed": true
   },
   "outputs": [],
   "source": [
    "# Module 2!\n",
    "ref2 = np.mean(final_pos1)\n",
    "k2 = 2\n",
    "ext_module2 = (ext_module1 + k2 * (final_pos1 - ref2))\n",
    "\n",
    "param_dict_module2 = {'Wut': 6, 'Wvt': 6, 'Wuv': 6, 'Wvu': 6,\n",
    "              'theta': 0.8, 'tau': 100, 'dt': 1, 'ext': ext_module2, 'sigma': 0}\n",
    "\n",
    "state_dict = {'u': np.array([0.7] * ntrials), 'v': np.array([0.2] * ntrials)}\n",
    "ulst_noise2, vlst_noise2 = simulate_u_v_exp_multi(state_dict, param_dict_module2, 300)\n",
    "decision_v2 = ulst_noise2 - vlst_noise2\n",
    "final_pos2 = (ulst_noise2 - vlst_noise2)[-1, :]\n"
   ]
  },
  {
   "cell_type": "code",
   "execution_count": null,
   "metadata": {
    "collapsed": true
   },
   "outputs": [],
   "source": [
    "plt.plot(ulst_noise2, vlst_noise2, 'b.', alpha=0.01);\n",
    "k = np.linspace(0.5, 1, 100)\n",
    "plt.scatter(ulst_noise2[100,:], vlst_noise2[100,:], color='r', marker='.');\n",
    "plt.scatter(ulst_noise2[200,:], vlst_noise2[200,:], color='r', marker='.');\n",
    "plt.scatter(ulst_noise2[300,:], vlst_noise2[300,:], color='r', marker='.');\n",
    "\n",
    "plt.plot(k , 1 - k + 0.2, '--')"
   ]
  },
  {
   "cell_type": "code",
   "execution_count": null,
   "metadata": {
    "collapsed": true
   },
   "outputs": [],
   "source": [
    "plt.figure(figsize=(4, 4))\n",
    "plt.hist(final_pos1 - np.mean(final_pos1), normed=True, alpha=1, label='Module 1', zorder=5)\n",
    "plt.hist(final_pos2 - np.mean(final_pos2), normed=True, alpha=0.8, label='Module 2', zorder=4)\n",
    "plt.hist(final_pos3 - np.mean(final_pos3), normed=True, alpha=0.8, label='Module 3', zorder=3)\n",
    "plt.xlabel('Bias along recurrent axis')\n",
    "plt.ylabel('Normalized Frequency')\n",
    "plt.legend(loc='upper left')\n",
    "save_safe('bias_three_modules.pdf')"
   ]
  },
  {
   "cell_type": "code",
   "execution_count": null,
   "metadata": {
    "collapsed": true
   },
   "outputs": [],
   "source": [
    "plt.scatter(ext_module1, ext_module2, marker='.')\n",
    "plt.scatter(ext_module1, ext_module3, marker='.')\n",
    "plt.scatter(ext_module1, ext_module1, marker='.')\n",
    "plt.xlabel(r'$I_1$')"
   ]
  },
  {
   "cell_type": "code",
   "execution_count": null,
   "metadata": {
    "collapsed": true
   },
   "outputs": [],
   "source": [
    "# Module 3!\n",
    "ref3 = np.mean(final_pos2)\n",
    "k3 = 2\n",
    "ext_module3 = (ext_module2 + k3 * (final_pos2 - ref3))\n",
    "\n",
    "param_dict_module3 = {'Wut': 6, 'Wvt': 6, 'Wuv': 6, 'Wvu': 6,\n",
    "              'theta': 0.8, 'tau': 100, 'dt': 1, 'ext': ext_module3, 'sigma': 0}\n",
    "\n",
    "state_dict = {'u': np.array([0.7] * ntrials), 'v': np.array([0.2] * ntrials)}\n",
    "ulst_noise3, vlst_noise3 = simulate_u_v_exp_multi(state_dict, param_dict_module3, 400)\n",
    "final_pos3 = (ulst_noise3 - vlst_noise3)[-1, :]\n",
    "action_times = get_times_lst(state_dict, param_dict_module3, 1000, thresh)\n",
    "\n"
   ]
  },
  {
   "cell_type": "code",
   "execution_count": null,
   "metadata": {
    "collapsed": true
   },
   "outputs": [],
   "source": [
    "# Module 4 (readout)\n",
    "ref4 = 1\n",
    "k4 = 5\n",
    "thresh = 0.8\n",
    "ext_module4 = (ext_module3 - k4 * (final_pos3 - ref4))\n",
    "param_dict_module4 = {'Wut': 6, 'Wvt': 6, 'Wuv': 6, 'Wvu': 6,\n",
    "              'theta': 0.5, 'tau': 100, 'dt': 1, 'ext': ext_module4, 'sigma': 0}\n",
    "\n",
    "\n",
    "action_times = get_times_lst(state_dict, param_dict_module4, 1000, thresh)\n",
    "x, y = ecdf(action_times)\n",
    "plt.plot(x, y)"
   ]
  },
  {
   "cell_type": "code",
   "execution_count": null,
   "metadata": {
    "collapsed": true
   },
   "outputs": [],
   "source": [
    "# Compare to a single module\n",
    "action_times2 = get_times_lst(state_dict, param_dict_module1, 1000, thresh)\n",
    "action_times = get_times_lst(state_dict, param_dict_module4, 1000, thresh)\n",
    "\n",
    "x1, y1 = ecdf(action_times)\n",
    "x2, y2 = ecdf(action_times2)\n",
    "plt.plot(x1, y1)\n",
    "plt.plot(x2, y2)"
   ]
  },
  {
   "cell_type": "markdown",
   "metadata": {},
   "source": [
    "## Effect of $\\sigma_\\sigma$"
   ]
  },
  {
   "cell_type": "code",
   "execution_count": null,
   "metadata": {
    "collapsed": true
   },
   "outputs": [],
   "source": [
    "# Module 1!\n",
    "ntrials = 100\n",
    "nsteps = 400\n",
    "#ext_module1 = np.random.normal(loc=0, scale=0.1, size=ntrials)\n",
    "param_dict_noise = {'Wut': 6, 'Wvt': 6, 'Wuv': 6, 'Wvu': 6,\n",
    "              'theta': 0.5, 'tau': 100, 'dt': 1, 'ext': 0, 'sigma': 0.6}\n",
    "param_dict_no_noise = {'Wut': 6, 'Wvt': 6, 'Wuv': 6, 'Wvu': 6,\n",
    "              'theta': 0.5, 'tau': 100, 'dt': 1, 'ext': 0, 'sigma': 0}\n",
    "\n",
    "state_dict = {'u': np.array([0.7] * ntrials), 'v': np.array([0.2] * ntrials)}\n",
    "ulst_noise1, vlst_noise1 = simulate_u_v_exp_multi(state_dict, param_dict_noise, nsteps)\n",
    "ulst_no_noise, vlst_no_noise = simulate_u_v_exp_multi(state_dict, param_dict_no_noise, nsteps)\n",
    "\n",
    "decision_v = ulst_noise1 - vlst_noise1\n",
    "final_pos = decision_v[-1]\n",
    "ref_decision = np.mean(final_pos)\n",
    "\n",
    "ext_lst = ref_decision - final_pos"
   ]
  },
  {
   "cell_type": "code",
   "execution_count": null,
   "metadata": {
    "collapsed": true
   },
   "outputs": [],
   "source": [
    "# Module 2!\n",
    "param_dict_noise['ext'] = ext_lst * 10\n",
    "ulst_noise2, vlst_noise2 = simulate_u_v_exp_multi(state_dict, param_dict_noise, nsteps)\n",
    "\n",
    "decision_v2 = ulst_noise2 - vlst_noise2\n",
    "final_pos2 = decision_v2[-1]\n",
    "ref_decision2 = np.mean(final_pos2)\n",
    "\n",
    "ext_lst2 = ref_decision2 - final_pos2\n"
   ]
  },
  {
   "cell_type": "code",
   "execution_count": null,
   "metadata": {
    "collapsed": true,
    "scrolled": false
   },
   "outputs": [],
   "source": [
    "plt.plot(ulst_noise1, vlst_noise1, 'b', alpha=0.1);\n",
    "plt.plot(ulst_no_noise, vlst_no_noise, 'r--');\n",
    "plt.scatter(ulst_noise1[-1], vlst_noise1[-1], color='r', marker='.')"
   ]
  },
  {
   "cell_type": "code",
   "execution_count": null,
   "metadata": {
    "collapsed": true
   },
   "outputs": [],
   "source": [
    "plt.plot(ulst_noise2, vlst_noise2, 'b', alpha=0.1);\n",
    "plt.plot(ulst_no_noise, vlst_no_noise, 'r--');\n",
    "plt.scatter(ulst_noise2[-1], vlst_noise2[-1], color='r', marker='.')"
   ]
  },
  {
   "cell_type": "code",
   "execution_count": null,
   "metadata": {
    "collapsed": true
   },
   "outputs": [],
   "source": []
  }
 ],
 "metadata": {
  "anaconda-cloud": {},
  "kernelspec": {
   "display_name": "Python [py36]",
   "language": "python",
   "name": "Python [py36]"
  },
  "language_info": {
   "codemirror_mode": {
    "name": "ipython",
    "version": 3
   },
   "file_extension": ".py",
   "mimetype": "text/x-python",
   "name": "python",
   "nbconvert_exporter": "python",
   "pygments_lexer": "ipython3",
   "version": "3.6.1"
  }
 },
 "nbformat": 4,
 "nbformat_minor": 1
}
